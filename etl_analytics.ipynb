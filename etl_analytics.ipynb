{
  "cells": [
    {
      "cell_type": "markdown",
      "source": [
        "# 🚕 ETA-ETL — NYC Yellow Taxi Trip ETL & Analysis (PySpark)\n",
        "\n",
        "A reproducible PySpark ETL notebook that ingests NYC taxi CSV, enforces schema, cleans data, derives features (trip time, avg speed, tip%), writes partitioned Parquet, performs windowed aggregations to find top drivers per day, demonstrates performance techniques (caching, partition pruning), and produces business-ready summaries/visualizations.\n",
        "\n",
        "Key takeaways:\n",
        "\n",
        "- Input: yellow_tripdata_2015-01.csv (NYC taxi CSV snapshot)\n",
        "\n",
        "- Rows after cleaning: 411,746 (sanity filters applied)\n",
        "\n",
        "- Key artefacts produced: partitioned Parquet dataset (pickup_date / driver_mod), top_drivers_by_day CSV, dataset summary CSV, timeseries plot of trips/day.\n",
        "\n",
        "- Performance highlights: caching reduced a group-by test from ~4.9s → ~0.71s; reading a single date partition returned 28,612 rows in ~3.90s (partition pruning working).\n",
        "\n",
        "- Primary insight example: driver_mod 8 appears repeatedly as the top revenue driver across many days. Tip rate is often zero in dataset sample (possible missing data or cash payments)."
      ],
      "metadata": {
        "id": "rpxfCGc6YTRs"
      },
      "id": "rpxfCGc6YTRs"
    },
    {
      "cell_type": "markdown",
      "source": [
        "## Spark session setup"
      ],
      "metadata": {
        "collapsed": false,
        "id": "e97af2b3a0fdac51"
      },
      "id": "e97af2b3a0fdac51"
    },
    {
      "cell_type": "markdown",
      "source": [
        "Creating SparkSession tuned for demo environment. Settting shuffle partitions so small local runs are efficient; Arrow speeds up conversions to Pandas for plotting."
      ],
      "metadata": {
        "id": "oO499RHEY1rN"
      },
      "id": "oO499RHEY1rN"
    },
    {
      "cell_type": "code",
      "execution_count": 1,
      "outputs": [
        {
          "output_type": "execute_result",
          "data": {
            "text/plain": [
              "<pyspark.sql.session.SparkSession at 0x7afe3b057bc0>"
            ],
            "text/html": [
              "\n",
              "            <div>\n",
              "                <p><b>SparkSession - in-memory</b></p>\n",
              "                \n",
              "        <div>\n",
              "            <p><b>SparkContext</b></p>\n",
              "\n",
              "            <p><a href=\"http://7dd5bd030bd1:4040\">Spark UI</a></p>\n",
              "\n",
              "            <dl>\n",
              "              <dt>Version</dt>\n",
              "                <dd><code>v3.5.1</code></dd>\n",
              "              <dt>Master</dt>\n",
              "                <dd><code>local[*]</code></dd>\n",
              "              <dt>AppName</dt>\n",
              "                <dd><code>ETA-ETL</code></dd>\n",
              "            </dl>\n",
              "        </div>\n",
              "        \n",
              "            </div>\n",
              "        "
            ]
          },
          "metadata": {},
          "execution_count": 1
        }
      ],
      "source": [
        "from pyspark.sql import SparkSession\n",
        "spark = SparkSession.builder \\\n",
        "    .appName(\"ETA-ETL\") \\\n",
        "    .config(\"spark.sql.shuffle.partitions\", \"8\") \\\n",
        "    .config(\"spark.sql.execution.arrow.pyspark.enabled\", \"true\") \\\n",
        "    .getOrCreate()\n",
        "spark"
      ],
      "metadata": {
        "ExecuteTime": {
          "end_time": "2025-09-14T21:04:03.922308500Z",
          "start_time": "2025-09-14T21:03:51.669339700Z"
        },
        "colab": {
          "base_uri": "https://localhost:8080/",
          "height": 219
        },
        "id": "8b3df61c34ef855e",
        "outputId": "ef0cc4c0-1365-4029-d126-583aafb7eb31"
      },
      "id": "8b3df61c34ef855e"
    },
    {
      "cell_type": "markdown",
      "source": [
        "## Read CSV into DataFrame"
      ],
      "metadata": {
        "collapsed": false,
        "id": "d938a34d150fe79e"
      },
      "id": "d938a34d150fe79e"
    },
    {
      "cell_type": "markdown",
      "source": [
        "Reading CSV with an explicit schema; some datetime fields were strings so parsed to timestamps using to_timestamp(..., format) and added a fallback parse_udf (dateutil) if needed.\n",
        "\n",
        "CSVs are messy — enforcing schema at read and explicitly parsing timestamps avoids NULL timestamps later that would remove rows in filters."
      ],
      "metadata": {
        "id": "lIVCHRtmZMb-"
      },
      "id": "lIVCHRtmZMb-"
    },
    {
      "cell_type": "code",
      "execution_count": 2,
      "outputs": [],
      "source": [
        "from dateutil import parser\n",
        "from pyspark.sql.functions import udf\n",
        "from pyspark.sql.types import TimestampType\n",
        "\n",
        "def parse_any(s):\n",
        "    try:\n",
        "        if s is None or s.strip()==\"\":\n",
        "            return None\n",
        "        return parser.parse(s)\n",
        "    except Exception:\n",
        "        return None\n",
        "parse_udf = udf(parse_any, TimestampType())"
      ],
      "metadata": {
        "ExecuteTime": {
          "end_time": "2025-09-14T21:22:14.095158100Z",
          "start_time": "2025-09-14T21:22:13.686036500Z"
        },
        "id": "767458f242fa070f"
      },
      "id": "767458f242fa070f"
    },
    {
      "cell_type": "code",
      "execution_count": 3,
      "outputs": [
        {
          "output_type": "stream",
          "name": "stdout",
          "text": [
            "root\n",
            " |-- VendorID: integer (nullable = true)\n",
            " |-- tpep_pickup_datetime: string (nullable = true)\n",
            " |-- tpep_dropoff_datetime: string (nullable = true)\n",
            " |-- passenger_count: integer (nullable = true)\n",
            " |-- trip_distance: double (nullable = true)\n",
            " |-- pickup_longitude: double (nullable = true)\n",
            " |-- pickup_latitude: double (nullable = true)\n",
            " |-- RateCodeID: integer (nullable = true)\n",
            " |-- store_and_fwd_flag: boolean (nullable = true)\n",
            " |-- dropoff_longitude: double (nullable = true)\n",
            " |-- dropoff_latitude: double (nullable = true)\n",
            " |-- payment_type: integer (nullable = true)\n",
            " |-- fare_amount: double (nullable = true)\n",
            " |-- extra: double (nullable = true)\n",
            " |-- mta_tax: double (nullable = true)\n",
            " |-- tip_amount: double (nullable = true)\n",
            " |-- tolls_amount: double (nullable = true)\n",
            " |-- improvement_surcharge: double (nullable = true)\n",
            " |-- total_amount: double (nullable = true)\n",
            " |-- tpep_pickup_datetime_ts: timestamp (nullable = true)\n",
            " |-- tpep_dropoff_datetime_ts: timestamp (nullable = true)\n",
            " |-- pickup_date: date (nullable = true)\n",
            "\n"
          ]
        }
      ],
      "source": [
        "from pyspark.sql.types import *\n",
        "from pyspark.sql.functions import to_timestamp, col, coalesce, when, to_date\n",
        "schema = StructType([\n",
        "    StructField(\"VendorID\", IntegerType(), True),\n",
        "    StructField(\"tpep_pickup_datetime\",  StringType(), True),\n",
        "    StructField(\"tpep_dropoff_datetime\",  StringType(), True),\n",
        "    StructField(\"passenger_count\", IntegerType(), True),\n",
        "    StructField(\"trip_distance\", DoubleType(), True),\n",
        "    StructField(\"pickup_longitude\", DoubleType(), True),\n",
        "    StructField(\"pickup_latitude\", DoubleType(), True),\n",
        "    StructField(\"RateCodeID\", IntegerType(), True),\n",
        "    StructField(\"store_and_fwd_flag\", StringType(), True),\n",
        "    StructField(\"dropoff_longitude\", DoubleType(), True),\n",
        "    StructField(\"dropoff_latitude\", DoubleType(), True),\n",
        "    StructField(\"payment_type\", IntegerType(), True),\n",
        "    StructField(\"fare_amount\", DoubleType(), True),\n",
        "    StructField(\"extra\", DoubleType(), True),\n",
        "    StructField(\"mta_tax\", DoubleType(), True),\n",
        "    StructField(\"tip_amount\", DoubleType(), True),\n",
        "    StructField(\"tolls_amount\", DoubleType(), True),\n",
        "    StructField(\"improvement_surcharge\", DoubleType(), True),\n",
        "    StructField(\"total_amount\", DoubleType(), True)\n",
        "])\n",
        "df_raw = spark.read.csv(\"/content/yellow_tripdata_2015-01.csv\", header=True, schema=schema)\n",
        "df = df_raw.withColumn(\"store_and_fwd_flag\", when(col(\"store_and_fwd_flag\") == \"Y\", True).when(col(\"store_and_fwd_flag\") == \"N\", False).otherwise(None)) \\\n",
        "           .withColumn(\"tpep_pickup_datetime_ts\",\n",
        "                       to_timestamp(col(\"tpep_pickup_datetime\"), \"dd/MM/yyyy HH:mm\")) \\\n",
        "           .withColumn(\"tpep_dropoff_datetime_ts\",\n",
        "                       to_timestamp(col(\"tpep_dropoff_datetime\"), \"dd/MM/yyyy HH:mm\"))\n",
        "\n",
        "df = df.withColumn(\"pickup_date\", to_date(\"tpep_pickup_datetime_ts\"))\n",
        "df.printSchema()"
      ],
      "metadata": {
        "ExecuteTime": {
          "end_time": "2025-09-14T21:22:16.014027800Z",
          "start_time": "2025-09-14T21:22:14.733649400Z"
        },
        "colab": {
          "base_uri": "https://localhost:8080/"
        },
        "id": "91bff2402d3e7b41",
        "outputId": "251c7a77-1100-4141-d356-d95cdc60a224"
      },
      "id": "91bff2402d3e7b41"
    },
    {
      "cell_type": "markdown",
      "source": [
        "Data validation on variables created/modified."
      ],
      "metadata": {
        "id": "AKZbub3BZbVn"
      },
      "id": "AKZbub3BZbVn"
    },
    {
      "cell_type": "code",
      "execution_count": 4,
      "outputs": [
        {
          "output_type": "stream",
          "name": "stdout",
          "text": [
            "+-----------+------------------+-----------------------+------------------------+\n",
            "|pickup_date|store_and_fwd_flag|tpep_pickup_datetime_ts|tpep_dropoff_datetime_ts|\n",
            "+-----------+------------------+-----------------------+------------------------+\n",
            "|2015-01-11 |false             |2015-01-11 17:17:00    |2015-01-11 18:05:00     |\n",
            "|2015-01-09 |false             |2015-01-09 16:58:00    |2015-01-09 17:24:00     |\n",
            "|2015-01-19 |false             |2015-01-19 12:29:00    |2015-01-19 13:22:00     |\n",
            "|2015-01-22 |false             |2015-01-22 00:41:00    |2015-01-22 02:40:00     |\n",
            "|2015-01-03 |false             |2015-01-03 14:05:00    |2015-01-03 14:50:00     |\n",
            "|2015-01-22 |false             |2015-01-22 04:09:00    |2015-01-22 05:31:00     |\n",
            "|2015-01-23 |false             |2015-01-23 23:58:00    |2015-01-24 00:36:00     |\n",
            "|2015-01-07 |true              |2015-01-07 11:58:00    |2015-01-07 12:33:00     |\n",
            "|2015-01-18 |false             |2015-01-18 06:25:00    |2015-01-18 06:26:00     |\n",
            "|2015-01-22 |false             |2015-01-22 14:03:00    |2015-01-22 14:44:00     |\n",
            "+-----------+------------------+-----------------------+------------------------+\n",
            "only showing top 10 rows\n",
            "\n"
          ]
        }
      ],
      "source": [
        "df.select(\"pickup_date\", \"store_and_fwd_flag\",\"tpep_pickup_datetime_ts\",\"tpep_dropoff_datetime_ts\").show(10,False)"
      ],
      "metadata": {
        "ExecuteTime": {
          "end_time": "2025-09-14T21:22:21.361604Z",
          "start_time": "2025-09-14T21:22:19.187387900Z"
        },
        "colab": {
          "base_uri": "https://localhost:8080/"
        },
        "id": "846c0cf05719ebaa",
        "outputId": "e0f914fe-5e7c-4eed-ea12-aded920b55cd"
      },
      "id": "846c0cf05719ebaa"
    },
    {
      "cell_type": "markdown",
      "source": [
        "## Cleaning + schema enforcement"
      ],
      "metadata": {
        "collapsed": false,
        "id": "29fca21f68229724"
      },
      "id": "29fca21f68229724"
    },
    {
      "cell_type": "markdown",
      "source": [
        "Sanity filters applied, detecting outliers of extremely long trips or travel speed anomalities with _trip_minutes_, then filtering very short or long trips with example thresholds.\n",
        "\n",
        "The goal is to remove invalid/degenerate trips (zero or negative distances, negative fares, bogus timestamps, extremely short/long trips)."
      ],
      "metadata": {
        "id": "gBpe2mWgZnxC"
      },
      "id": "gBpe2mWgZnxC"
    },
    {
      "cell_type": "code",
      "execution_count": 5,
      "outputs": [
        {
          "output_type": "stream",
          "name": "stdout",
          "text": [
            "Count of cleaned rows: 411746\n"
          ]
        }
      ],
      "source": [
        "clean_df = df.filter(col(\"trip_distance\") > 0) \\\n",
        "             .filter(col(\"tpep_dropoff_datetime\") > col(\"tpep_pickup_datetime\")) \\\n",
        "             .filter(col(\"fare_amount\") >= 0) \\\n",
        "             .filter(col(\"passenger_count\") > 0)\n",
        "\n",
        "clean_df = clean_df.withColumn(\"trip_minutes\",\n",
        "                               (col(\"tpep_dropoff_datetime_ts\").cast(\"long\") - col(\"tpep_pickup_datetime_ts\").cast(\"long\"))/60.0)\n",
        "\n",
        "clean_df = clean_df.filter((col(\"trip_minutes\") > 0.5) & (col(\"trip_minutes\") < 24*60))\n",
        "print(\"Count of cleaned rows:\", clean_df.count())"
      ],
      "metadata": {
        "ExecuteTime": {
          "end_time": "2025-09-14T21:22:32.391876400Z",
          "start_time": "2025-09-14T21:22:23.928694900Z"
        },
        "colab": {
          "base_uri": "https://localhost:8080/"
        },
        "id": "2aa74a697135747c",
        "outputId": "61f6cccd-0821-4875-8564-5e5cbaf3f437"
      },
      "id": "2aa74a697135747c"
    },
    {
      "cell_type": "markdown",
      "source": [
        "## Feature derivation (trip_time, speed)"
      ],
      "metadata": {
        "collapsed": false,
        "id": "3e09257c6458c228"
      },
      "id": "3e09257c6458c228"
    },
    {
      "cell_type": "markdown",
      "source": [
        "Derived features:\n",
        "\n",
        "- `trip_hours` = round(trip_minutes / 60, 2)\n",
        "\n",
        "- `avg_speed_mph` = trip_distance / trip_hours (guard divide by zero)\n",
        "\n",
        "- `tip_pct` = 100.0 * tip_amount / fare_amount\n",
        "\n",
        "Speed anomalies highlight data errors or unusual traffic; tip percentage can be used for driver or area segmentation; trip_hours used for temporal modelling."
      ],
      "metadata": {
        "id": "-wiLVtFpaPKk"
      },
      "id": "-wiLVtFpaPKk"
    },
    {
      "cell_type": "code",
      "execution_count": 6,
      "outputs": [],
      "source": [
        "# Use given trip_distance (units often miles) — compute avg speed (distance / hours)\n",
        "from pyspark.sql.functions import round\n",
        "clean_df = clean_df.withColumn(\"trip_hours\", round(col(\"trip_minutes\") / 60.0, 2))\n",
        "clean_df = clean_df.withColumn(\"avg_speed_mph\", round(when(col(\"trip_hours\")>0, col(\"trip_distance\")/col(\"trip_hours\")).otherwise(None),2))\n",
        "clean_df = clean_df.withColumn(\"tip_pct\", round(when(col(\"fare_amount\")>0, 100.0 * col(\"tip_amount\")/col(\"fare_amount\")).otherwise(0),2))"
      ],
      "metadata": {
        "ExecuteTime": {
          "end_time": "2025-09-14T21:22:33.389079200Z",
          "start_time": "2025-09-14T21:22:33.295396100Z"
        },
        "id": "44cd0aff1648fe42"
      },
      "id": "44cd0aff1648fe42"
    },
    {
      "cell_type": "code",
      "execution_count": 7,
      "outputs": [
        {
          "output_type": "stream",
          "name": "stdout",
          "text": [
            "+----------+-------------+-------+\n",
            "|trip_hours|avg_speed_mph|tip_pct|\n",
            "+----------+-------------+-------+\n",
            "|0.8       |23.88        |0.0    |\n",
            "|0.43      |23.02        |0.0    |\n",
            "|0.88      |1.48         |0.0    |\n",
            "|1.98      |31.77        |0.0    |\n",
            "|0.75      |25.47        |0.0    |\n",
            "|1.37      |23.72        |0.0    |\n",
            "|0.63      |1.11         |0.0    |\n",
            "|0.58      |14.66        |0.0    |\n",
            "|0.68      |16.62        |0.0    |\n",
            "|0.53      |17.36        |0.0    |\n",
            "+----------+-------------+-------+\n",
            "only showing top 10 rows\n",
            "\n"
          ]
        }
      ],
      "source": [
        "clean_df.select(\"trip_hours\",\"avg_speed_mph\",\"tip_pct\").show(10,False)"
      ],
      "metadata": {
        "ExecuteTime": {
          "end_time": "2025-09-14T21:06:39.513295800Z",
          "start_time": "2025-09-14T21:06:39.274306700Z"
        },
        "colab": {
          "base_uri": "https://localhost:8080/"
        },
        "id": "3f5ed3456cd58c98",
        "outputId": "2f6ece30-1142-4a9e-f6e9-232e1e3c7815"
      },
      "id": "3f5ed3456cd58c98"
    },
    {
      "cell_type": "markdown",
      "source": [
        "## Partitioned Parquet write (by date / driver_id modulo)"
      ],
      "metadata": {
        "collapsed": false,
        "id": "79199773310f557d"
      },
      "id": "79199773310f557d"
    },
    {
      "cell_type": "markdown",
      "source": [
        "Approach:\n",
        "\n",
        "- Create synthetic driver_mod using crc32 hash modulo 16 on pickup coords (simulates driver id/bucket)\n",
        "\n",
        "- Write Parquet partitioned by pickup_date and driver_mod with Snappy compression\n",
        "\n",
        "Partitioning by `pickup_date` enables efficient temporal reads (predicate pushdown).\n",
        "\n",
        "`driver_mod` helps co-locate driver-specific workloads and is useful for downstream per-driver aggregations."
      ],
      "metadata": {
        "id": "laLQ-kO_a4G7"
      },
      "id": "laLQ-kO_a4G7"
    },
    {
      "cell_type": "code",
      "execution_count": 8,
      "outputs": [],
      "source": [
        "from pyspark.sql.functions import sha2, concat_ws, crc32\n",
        "\n",
        "# Simulate driver_id if not available: hash of pickup loc rounded\n",
        "driver_hash = sha2(concat_ws(\"_\", col(\"pickup_latitude\").cast(\"string\"), col(\"pickup_longitude\").cast(\"string\")), 256)\n",
        "clean_df = clean_df.withColumn(\n",
        "    \"driver_mod\",\n",
        "    (crc32(concat_ws(\"_\", col(\"pickup_latitude\"), col(\"pickup_longitude\"))) % 16).cast(\"int\")\n",
        ")\n",
        "# simpler: convert sha2 to integer via substring hex -> int using conv() if Spark supports, otherwise use crc32\n",
        "from pyspark.sql.functions import crc32\n",
        "clean_df = clean_df.withColumn(\"driver_mod\", (crc32(concat_ws(\"_\", col(\"pickup_latitude\"), col(\"pickup_longitude\"))) % 16))\n"
      ],
      "metadata": {
        "ExecuteTime": {
          "end_time": "2025-09-14T21:06:40.888351100Z",
          "start_time": "2025-09-14T21:06:40.806471700Z"
        },
        "id": "6392ae19f9ce8fe7"
      },
      "id": "6392ae19f9ce8fe7"
    },
    {
      "cell_type": "code",
      "execution_count": 9,
      "outputs": [],
      "source": [
        "out_path = \"/content/data/parquet_trips\"\n",
        "clean_df.repartition(16) \\\n",
        "        .write.mode(\"overwrite\") \\\n",
        "        .option(\"compression\", \"snappy\") \\\n",
        "        .partitionBy(\"pickup_date\",\"driver_mod\") \\\n",
        "        .parquet(out_path)"
      ],
      "metadata": {
        "id": "119123ef5d38dd56"
      },
      "id": "119123ef5d38dd56"
    },
    {
      "cell_type": "markdown",
      "source": [
        "## Windowed aggregation (top drivers per day)"
      ],
      "metadata": {
        "collapsed": false,
        "id": "f12351a2fd7e4e81"
      },
      "id": "f12351a2fd7e4e81"
    },
    {
      "cell_type": "markdown",
      "source": [
        "Grouped by pickup_date and driver_mod, sum total_amount, then using window row_number partitioned by pickup_date ordered by total_amount to select top 5 drivers per day."
      ],
      "metadata": {
        "id": "duR9IxMYbWbW"
      },
      "id": "duR9IxMYbWbW"
    },
    {
      "cell_type": "markdown",
      "source": [
        "Useful operational metric — who generates most revenue each day (used for roster planning, incentives, anomaly detection)."
      ],
      "metadata": {
        "id": "_OH01JrScJ0R"
      },
      "id": "_OH01JrScJ0R"
    },
    {
      "cell_type": "code",
      "execution_count": 10,
      "outputs": [
        {
          "output_type": "stream",
          "name": "stdout",
          "text": [
            "+-----------+----------+------------------+-----+----+\n",
            "|pickup_date|driver_mod|total_amount      |trips|rank|\n",
            "+-----------+----------+------------------+-----+----+\n",
            "|2015-01-01 |8         |38021.6599999999  |2437 |1   |\n",
            "|2015-01-01 |2         |29716.989999999263|1914 |2   |\n",
            "|2015-01-01 |0         |28975.109999999237|1927 |3   |\n",
            "|2015-01-01 |15        |28541.979999999297|1899 |4   |\n",
            "|2015-01-01 |14        |28456.2299999993  |1835 |5   |\n",
            "|2015-01-02 |8         |36711.01999999966 |2412 |1   |\n",
            "|2015-01-02 |15        |29039.109999999306|1858 |2   |\n",
            "|2015-01-02 |11        |28638.329999999285|1908 |3   |\n",
            "|2015-01-02 |7         |28471.599999999307|1839 |4   |\n",
            "|2015-01-02 |5         |28397.60999999932 |1897 |5   |\n",
            "|2015-01-03 |8         |37135.819999999614|2692 |1   |\n",
            "|2015-01-03 |0         |30602.989999999125|2177 |2   |\n",
            "|2015-01-03 |7         |30503.439999999147|2143 |3   |\n",
            "|2015-01-03 |14        |30375.50999999919 |2149 |4   |\n",
            "|2015-01-03 |11        |30371.819999999167|2101 |5   |\n",
            "|2015-01-04 |8         |27105.179999999327|1777 |1   |\n",
            "|2015-01-04 |4         |24689.18999999942 |1585 |2   |\n",
            "|2015-01-04 |15        |24619.68999999939 |1596 |3   |\n",
            "|2015-01-04 |13        |24189.369999999497|1539 |4   |\n",
            "|2015-01-04 |14        |24142.359999999473|1549 |5   |\n",
            "|2015-01-05 |8         |33862.619999999275|2264 |1   |\n",
            "|2015-01-05 |2         |27844.77999999926 |1761 |2   |\n",
            "|2015-01-05 |4         |27648.67999999932 |1770 |3   |\n",
            "|2015-01-05 |11        |27583.169999999303|1778 |4   |\n",
            "|2015-01-05 |15        |27225.309999999332|1737 |5   |\n",
            "|2015-01-06 |8         |38857.67999999977 |2590 |1   |\n",
            "|2015-01-06 |6         |31547.739999999238|2109 |2   |\n",
            "|2015-01-06 |7         |30231.809999999277|2067 |3   |\n",
            "|2015-01-06 |1         |30187.019999999327|1976 |4   |\n",
            "|2015-01-06 |5         |30042.499999999236|2082 |5   |\n",
            "|2015-01-07 |8         |46457.669999999336|3248 |1   |\n",
            "|2015-01-07 |4         |36342.13999999944 |2466 |2   |\n",
            "|2015-01-07 |7         |36093.89999999943 |2510 |3   |\n",
            "|2015-01-07 |10        |35876.159999999465|2444 |4   |\n",
            "|2015-01-07 |1         |35318.309999999445|2447 |5   |\n",
            "|2015-01-08 |8         |40713.45999999963 |2863 |1   |\n",
            "|2015-01-08 |2         |33000.449999999444|2217 |2   |\n",
            "|2015-01-08 |4         |32411.13999999943 |2218 |3   |\n",
            "|2015-01-08 |1         |32355.989999999394|2241 |4   |\n",
            "|2015-01-08 |0         |32110.999999999425|2170 |5   |\n",
            "|2015-01-09 |8         |37954.04999999925 |2564 |1   |\n",
            "|2015-01-09 |0         |31567.97999999943 |2080 |2   |\n",
            "|2015-01-09 |3         |30966.62999999939 |2076 |3   |\n",
            "|2015-01-09 |4         |30750.899999999445|2060 |4   |\n",
            "|2015-01-09 |5         |30734.039999999466|2024 |5   |\n",
            "|2015-01-10 |8         |49126.56000000056 |3612 |1   |\n",
            "|2015-01-10 |12        |38600.37999999932 |2806 |2   |\n",
            "|2015-01-10 |13        |38495.31999999932 |2719 |3   |\n",
            "|2015-01-10 |15        |38242.0799999993  |2724 |4   |\n",
            "|2015-01-10 |4         |38183.56999999926 |2757 |5   |\n",
            "+-----------+----------+------------------+-----+----+\n",
            "only showing top 50 rows\n",
            "\n"
          ]
        }
      ],
      "source": [
        "from pyspark.sql.window import Window\n",
        "from pyspark.sql.functions import sum as _sum, row_number, desc, count as _count\n",
        "\n",
        "daily_driver = clean_df.groupBy(\"pickup_date\",\"driver_mod\").agg(\n",
        "    _sum(\"total_amount\").alias(\"total_amount\"),\n",
        "    _count(\"*\").alias(\"trips\")\n",
        ")\n",
        "\n",
        "w = Window.partitionBy(\"pickup_date\").orderBy(desc(\"total_amount\"))\n",
        "top_drivers = daily_driver.withColumn(\"rank\", row_number().over(w)).filter(col(\"rank\") <= 5)\n",
        "top_drivers.orderBy(\"pickup_date\",\"rank\").show(50, truncate=False)"
      ],
      "metadata": {
        "ExecuteTime": {
          "end_time": "2025-09-14T21:12:15.165005400Z",
          "start_time": "2025-09-14T21:12:01.844338200Z"
        },
        "colab": {
          "base_uri": "https://localhost:8080/"
        },
        "id": "19b6b547d3a14b41",
        "outputId": "68070450-9bf4-4c59-f143-5344456ba405"
      },
      "id": "19b6b547d3a14b41"
    },
    {
      "cell_type": "markdown",
      "source": [
        "Top drivers list (sample shows driver_mod 8 often #1)."
      ],
      "metadata": {
        "id": "9_9oiDhicGI-"
      },
      "id": "9_9oiDhicGI-"
    },
    {
      "cell_type": "markdown",
      "source": [
        "## Broadcast join example (small driver metadata)"
      ],
      "metadata": {
        "collapsed": false,
        "id": "89bdb08077773c3"
      },
      "id": "89bdb08077773c3"
    },
    {
      "cell_type": "markdown",
      "source": [
        "Created a tiny driver metadata table and broadcast() joined it to top_drivers to show fast enrichment.\n",
        "\n",
        "Broadcast joins are ideal when one side is tiny and the other is large — avoids shuffle.\n",
        "\n",
        "_Note_: fleet_name was NULL for many driver_mod values because the driver metadata sample was intentionally small (only three entries). In production, a richer driver dimension table should be provided."
      ],
      "metadata": {
        "id": "rdzmhyvPcbZ_"
      },
      "id": "rdzmhyvPcbZ_"
    },
    {
      "cell_type": "code",
      "execution_count": 11,
      "outputs": [
        {
          "output_type": "stream",
          "name": "stdout",
          "text": [
            "+----------+-----------+------------------+-----+----+----------+\n",
            "|driver_mod|pickup_date|      total_amount|trips|rank|fleet_name|\n",
            "+----------+-----------+------------------+-----+----+----------+\n",
            "|         8| 2015-01-09| 37954.04999999925| 2564|   1|      NULL|\n",
            "|         0| 2015-01-09| 31567.97999999943| 2080|   2|   Fleet A|\n",
            "|         3| 2015-01-09| 30966.62999999939| 2076|   3|      NULL|\n",
            "|         4| 2015-01-09|30750.899999999445| 2060|   4|      NULL|\n",
            "|         5| 2015-01-09|30734.039999999466| 2024|   5|      NULL|\n",
            "|         3| 2015-01-15| 7705.090000000006|  143|   1|      NULL|\n",
            "|         9| 2015-01-15| 7527.000000000006|  144|   2|      NULL|\n",
            "|         1| 2015-01-15| 7489.060000000003|  133|   3|   Fleet B|\n",
            "|         6| 2015-01-15| 7279.170000000006|  140|   4|      NULL|\n",
            "|         8| 2015-01-15| 7193.590000000008|  145|   5|      NULL|\n",
            "|         8| 2015-01-22| 6906.280000000003|  132|   1|      NULL|\n",
            "|        12| 2015-01-22| 6066.870000000005|  124|   2|      NULL|\n",
            "|         4| 2015-01-22| 5842.270000000003|  111|   3|      NULL|\n",
            "|         3| 2015-01-22| 5830.470000000003|  112|   4|      NULL|\n",
            "|        15| 2015-01-22| 5747.270000000007|  110|   5|      NULL|\n",
            "|         8| 2015-01-28| 5716.810000000003|  111|   1|      NULL|\n",
            "|         3| 2015-01-28| 5492.520000000007|   99|   2|      NULL|\n",
            "|        13| 2015-01-28| 5396.870000000004|  105|   3|      NULL|\n",
            "|        14| 2015-01-28| 5264.070000000003|  104|   4|      NULL|\n",
            "|         5| 2015-01-28|5134.3300000000045|  100|   5|      NULL|\n",
            "+----------+-----------+------------------+-----+----+----------+\n",
            "only showing top 20 rows\n",
            "\n"
          ]
        }
      ],
      "source": [
        "from pyspark.sql.functions import broadcast\n",
        "\n",
        "driver_meta = spark.createDataFrame([\n",
        "    (0, \"Fleet A\"), (1, \"Fleet B\"), (2, \"Independent\")\n",
        "], [\"driver_mod\",\"fleet_name\"])\n",
        "driver_meta = driver_meta.withColumn(\"driver_mod\", col(\"driver_mod\").cast(\"int\"))\n",
        "\n",
        "# persist top_drivers to avoid repeating heavy window aggregation\n",
        "top_drivers = top_drivers.cache()   # or .persist()\n",
        "top_drivers.count()                 # materialize cache\n",
        "\n",
        "joined = top_drivers.join(broadcast(driver_meta), on=\"driver_mod\", how=\"left\")\n",
        "joined.show()"
      ],
      "metadata": {
        "ExecuteTime": {
          "end_time": "2025-09-14T21:12:45.311693400Z",
          "start_time": "2025-09-14T21:12:21.058668400Z"
        },
        "colab": {
          "base_uri": "https://localhost:8080/"
        },
        "id": "2b0fb4c652b1008f",
        "outputId": "d2b591e1-64e7-42f1-9b22-3fd60eb6aea6"
      },
      "id": "2b0fb4c652b1008f"
    },
    {
      "cell_type": "markdown",
      "source": [
        "## Caching + explain() plan + simple timing measurement"
      ],
      "metadata": {
        "collapsed": false,
        "id": "c92a30cab75b9709"
      },
      "id": "c92a30cab75b9709"
    },
    {
      "cell_type": "markdown",
      "source": [
        "What is demonstrated:\n",
        "\n",
        "- measured groupBy time before caching (≈ 4.92s)\n",
        "\n",
        "- cached clean_df, materialized it, re-ran the groupBy (≈ 0.71s)\n",
        "\n",
        "- explain(True) to show parsed/optimized/physical plans\n",
        "\n",
        "Why: caching hot tables speeds repeated queries; explain plan is essential for performance debugging."
      ],
      "metadata": {
        "id": "a72XqcOAc3JT"
      },
      "id": "a72XqcOAc3JT"
    },
    {
      "cell_type": "code",
      "execution_count": 12,
      "outputs": [
        {
          "output_type": "stream",
          "name": "stdout",
          "text": [
            "Without cache: 4.9159767627716064s\n",
            "With cache: 0.7095746994018555s\n",
            "== Parsed Logical Plan ==\n",
            "'Aggregate ['driver_mod], ['driver_mod, sum('total_amount) AS total_amount#2442]\n",
            "+- Project [VendorID#0, tpep_pickup_datetime#1, tpep_dropoff_datetime#2, passenger_count#3, trip_distance#4, pickup_longitude#5, pickup_latitude#6, RateCodeID#7, store_and_fwd_flag#38, dropoff_longitude#9, dropoff_latitude#10, payment_type#11, fare_amount#12, extra#13, mta_tax#14, tip_amount#15, tolls_amount#16, improvement_surcharge#17, total_amount#18, tpep_pickup_datetime_ts#59, tpep_dropoff_datetime_ts#80, pickup_date#102, trip_minutes#149, trip_hours#206, ... 3 more fields]\n",
            "   +- Project [VendorID#0, tpep_pickup_datetime#1, tpep_dropoff_datetime#2, passenger_count#3, trip_distance#4, pickup_longitude#5, pickup_latitude#6, RateCodeID#7, store_and_fwd_flag#38, dropoff_longitude#9, dropoff_latitude#10, payment_type#11, fare_amount#12, extra#13, mta_tax#14, tip_amount#15, tolls_amount#16, improvement_surcharge#17, total_amount#18, tpep_pickup_datetime_ts#59, tpep_dropoff_datetime_ts#80, pickup_date#102, trip_minutes#149, trip_hours#206, ... 3 more fields]\n",
            "      +- Project [VendorID#0, tpep_pickup_datetime#1, tpep_dropoff_datetime#2, passenger_count#3, trip_distance#4, pickup_longitude#5, pickup_latitude#6, RateCodeID#7, store_and_fwd_flag#38, dropoff_longitude#9, dropoff_latitude#10, payment_type#11, fare_amount#12, extra#13, mta_tax#14, tip_amount#15, tolls_amount#16, improvement_surcharge#17, total_amount#18, tpep_pickup_datetime_ts#59, tpep_dropoff_datetime_ts#80, pickup_date#102, trip_minutes#149, trip_hours#206, ... 2 more fields]\n",
            "         +- Project [VendorID#0, tpep_pickup_datetime#1, tpep_dropoff_datetime#2, passenger_count#3, trip_distance#4, pickup_longitude#5, pickup_latitude#6, RateCodeID#7, store_and_fwd_flag#38, dropoff_longitude#9, dropoff_latitude#10, payment_type#11, fare_amount#12, extra#13, mta_tax#14, tip_amount#15, tolls_amount#16, improvement_surcharge#17, total_amount#18, tpep_pickup_datetime_ts#59, tpep_dropoff_datetime_ts#80, pickup_date#102, trip_minutes#149, trip_hours#206, round(CASE WHEN (trip_hours#206 > cast(0 as double)) THEN (trip_distance#4 / trip_hours#206) ELSE cast(null as double) END, 2) AS avg_speed_mph#231]\n",
            "            +- Project [VendorID#0, tpep_pickup_datetime#1, tpep_dropoff_datetime#2, passenger_count#3, trip_distance#4, pickup_longitude#5, pickup_latitude#6, RateCodeID#7, store_and_fwd_flag#38, dropoff_longitude#9, dropoff_latitude#10, payment_type#11, fare_amount#12, extra#13, mta_tax#14, tip_amount#15, tolls_amount#16, improvement_surcharge#17, total_amount#18, tpep_pickup_datetime_ts#59, tpep_dropoff_datetime_ts#80, pickup_date#102, trip_minutes#149, round((trip_minutes#149 / 60.0), 2) AS trip_hours#206]\n",
            "               +- Filter ((trip_minutes#149 > 0.5) AND (trip_minutes#149 < cast(1440 as double)))\n",
            "                  +- Project [VendorID#0, tpep_pickup_datetime#1, tpep_dropoff_datetime#2, passenger_count#3, trip_distance#4, pickup_longitude#5, pickup_latitude#6, RateCodeID#7, store_and_fwd_flag#38, dropoff_longitude#9, dropoff_latitude#10, payment_type#11, fare_amount#12, extra#13, mta_tax#14, tip_amount#15, tolls_amount#16, improvement_surcharge#17, total_amount#18, tpep_pickup_datetime_ts#59, tpep_dropoff_datetime_ts#80, pickup_date#102, (cast((cast(tpep_dropoff_datetime_ts#80 as bigint) - cast(tpep_pickup_datetime_ts#59 as bigint)) as double) / cast(60.0 as double)) AS trip_minutes#149]\n",
            "                     +- Filter (passenger_count#3 > 0)\n",
            "                        +- Filter (fare_amount#12 >= cast(0 as double))\n",
            "                           +- Filter (tpep_dropoff_datetime#2 > tpep_pickup_datetime#1)\n",
            "                              +- Filter (trip_distance#4 > cast(0 as double))\n",
            "                                 +- Project [VendorID#0, tpep_pickup_datetime#1, tpep_dropoff_datetime#2, passenger_count#3, trip_distance#4, pickup_longitude#5, pickup_latitude#6, RateCodeID#7, store_and_fwd_flag#38, dropoff_longitude#9, dropoff_latitude#10, payment_type#11, fare_amount#12, extra#13, mta_tax#14, tip_amount#15, tolls_amount#16, improvement_surcharge#17, total_amount#18, tpep_pickup_datetime_ts#59, tpep_dropoff_datetime_ts#80, to_date(tpep_pickup_datetime_ts#59, None, Some(Etc/UTC), false) AS pickup_date#102]\n",
            "                                    +- Project [VendorID#0, tpep_pickup_datetime#1, tpep_dropoff_datetime#2, passenger_count#3, trip_distance#4, pickup_longitude#5, pickup_latitude#6, RateCodeID#7, store_and_fwd_flag#38, dropoff_longitude#9, dropoff_latitude#10, payment_type#11, fare_amount#12, extra#13, mta_tax#14, tip_amount#15, tolls_amount#16, improvement_surcharge#17, total_amount#18, tpep_pickup_datetime_ts#59, to_timestamp(tpep_dropoff_datetime#2, Some(dd/MM/yyyy HH:mm), TimestampType, Some(Etc/UTC), false) AS tpep_dropoff_datetime_ts#80]\n",
            "                                       +- Project [VendorID#0, tpep_pickup_datetime#1, tpep_dropoff_datetime#2, passenger_count#3, trip_distance#4, pickup_longitude#5, pickup_latitude#6, RateCodeID#7, store_and_fwd_flag#38, dropoff_longitude#9, dropoff_latitude#10, payment_type#11, fare_amount#12, extra#13, mta_tax#14, tip_amount#15, tolls_amount#16, improvement_surcharge#17, total_amount#18, to_timestamp(tpep_pickup_datetime#1, Some(dd/MM/yyyy HH:mm), TimestampType, Some(Etc/UTC), false) AS tpep_pickup_datetime_ts#59]\n",
            "                                          +- Project [VendorID#0, tpep_pickup_datetime#1, tpep_dropoff_datetime#2, passenger_count#3, trip_distance#4, pickup_longitude#5, pickup_latitude#6, RateCodeID#7, CASE WHEN (store_and_fwd_flag#8 = Y) THEN true WHEN (store_and_fwd_flag#8 = N) THEN false ELSE cast(null as boolean) END AS store_and_fwd_flag#38, dropoff_longitude#9, dropoff_latitude#10, payment_type#11, fare_amount#12, extra#13, mta_tax#14, tip_amount#15, tolls_amount#16, improvement_surcharge#17, total_amount#18]\n",
            "                                             +- Relation [VendorID#0,tpep_pickup_datetime#1,tpep_dropoff_datetime#2,passenger_count#3,trip_distance#4,pickup_longitude#5,pickup_latitude#6,RateCodeID#7,store_and_fwd_flag#8,dropoff_longitude#9,dropoff_latitude#10,payment_type#11,fare_amount#12,extra#13,mta_tax#14,tip_amount#15,tolls_amount#16,improvement_surcharge#17,total_amount#18] csv\n",
            "\n",
            "== Analyzed Logical Plan ==\n",
            "driver_mod: bigint, total_amount: double\n",
            "Aggregate [driver_mod#334L], [driver_mod#334L, sum(total_amount#18) AS total_amount#2442]\n",
            "+- Project [VendorID#0, tpep_pickup_datetime#1, tpep_dropoff_datetime#2, passenger_count#3, trip_distance#4, pickup_longitude#5, pickup_latitude#6, RateCodeID#7, store_and_fwd_flag#38, dropoff_longitude#9, dropoff_latitude#10, payment_type#11, fare_amount#12, extra#13, mta_tax#14, tip_amount#15, tolls_amount#16, improvement_surcharge#17, total_amount#18, tpep_pickup_datetime_ts#59, tpep_dropoff_datetime_ts#80, pickup_date#102, trip_minutes#149, trip_hours#206, ... 3 more fields]\n",
            "   +- Project [VendorID#0, tpep_pickup_datetime#1, tpep_dropoff_datetime#2, passenger_count#3, trip_distance#4, pickup_longitude#5, pickup_latitude#6, RateCodeID#7, store_and_fwd_flag#38, dropoff_longitude#9, dropoff_latitude#10, payment_type#11, fare_amount#12, extra#13, mta_tax#14, tip_amount#15, tolls_amount#16, improvement_surcharge#17, total_amount#18, tpep_pickup_datetime_ts#59, tpep_dropoff_datetime_ts#80, pickup_date#102, trip_minutes#149, trip_hours#206, ... 3 more fields]\n",
            "      +- Project [VendorID#0, tpep_pickup_datetime#1, tpep_dropoff_datetime#2, passenger_count#3, trip_distance#4, pickup_longitude#5, pickup_latitude#6, RateCodeID#7, store_and_fwd_flag#38, dropoff_longitude#9, dropoff_latitude#10, payment_type#11, fare_amount#12, extra#13, mta_tax#14, tip_amount#15, tolls_amount#16, improvement_surcharge#17, total_amount#18, tpep_pickup_datetime_ts#59, tpep_dropoff_datetime_ts#80, pickup_date#102, trip_minutes#149, trip_hours#206, ... 2 more fields]\n",
            "         +- Project [VendorID#0, tpep_pickup_datetime#1, tpep_dropoff_datetime#2, passenger_count#3, trip_distance#4, pickup_longitude#5, pickup_latitude#6, RateCodeID#7, store_and_fwd_flag#38, dropoff_longitude#9, dropoff_latitude#10, payment_type#11, fare_amount#12, extra#13, mta_tax#14, tip_amount#15, tolls_amount#16, improvement_surcharge#17, total_amount#18, tpep_pickup_datetime_ts#59, tpep_dropoff_datetime_ts#80, pickup_date#102, trip_minutes#149, trip_hours#206, round(CASE WHEN (trip_hours#206 > cast(0 as double)) THEN (trip_distance#4 / trip_hours#206) ELSE cast(null as double) END, 2) AS avg_speed_mph#231]\n",
            "            +- Project [VendorID#0, tpep_pickup_datetime#1, tpep_dropoff_datetime#2, passenger_count#3, trip_distance#4, pickup_longitude#5, pickup_latitude#6, RateCodeID#7, store_and_fwd_flag#38, dropoff_longitude#9, dropoff_latitude#10, payment_type#11, fare_amount#12, extra#13, mta_tax#14, tip_amount#15, tolls_amount#16, improvement_surcharge#17, total_amount#18, tpep_pickup_datetime_ts#59, tpep_dropoff_datetime_ts#80, pickup_date#102, trip_minutes#149, round((trip_minutes#149 / 60.0), 2) AS trip_hours#206]\n",
            "               +- Filter ((trip_minutes#149 > 0.5) AND (trip_minutes#149 < cast(1440 as double)))\n",
            "                  +- Project [VendorID#0, tpep_pickup_datetime#1, tpep_dropoff_datetime#2, passenger_count#3, trip_distance#4, pickup_longitude#5, pickup_latitude#6, RateCodeID#7, store_and_fwd_flag#38, dropoff_longitude#9, dropoff_latitude#10, payment_type#11, fare_amount#12, extra#13, mta_tax#14, tip_amount#15, tolls_amount#16, improvement_surcharge#17, total_amount#18, tpep_pickup_datetime_ts#59, tpep_dropoff_datetime_ts#80, pickup_date#102, (cast((cast(tpep_dropoff_datetime_ts#80 as bigint) - cast(tpep_pickup_datetime_ts#59 as bigint)) as double) / cast(60.0 as double)) AS trip_minutes#149]\n",
            "                     +- Filter (passenger_count#3 > 0)\n",
            "                        +- Filter (fare_amount#12 >= cast(0 as double))\n",
            "                           +- Filter (tpep_dropoff_datetime#2 > tpep_pickup_datetime#1)\n",
            "                              +- Filter (trip_distance#4 > cast(0 as double))\n",
            "                                 +- Project [VendorID#0, tpep_pickup_datetime#1, tpep_dropoff_datetime#2, passenger_count#3, trip_distance#4, pickup_longitude#5, pickup_latitude#6, RateCodeID#7, store_and_fwd_flag#38, dropoff_longitude#9, dropoff_latitude#10, payment_type#11, fare_amount#12, extra#13, mta_tax#14, tip_amount#15, tolls_amount#16, improvement_surcharge#17, total_amount#18, tpep_pickup_datetime_ts#59, tpep_dropoff_datetime_ts#80, to_date(tpep_pickup_datetime_ts#59, None, Some(Etc/UTC), false) AS pickup_date#102]\n",
            "                                    +- Project [VendorID#0, tpep_pickup_datetime#1, tpep_dropoff_datetime#2, passenger_count#3, trip_distance#4, pickup_longitude#5, pickup_latitude#6, RateCodeID#7, store_and_fwd_flag#38, dropoff_longitude#9, dropoff_latitude#10, payment_type#11, fare_amount#12, extra#13, mta_tax#14, tip_amount#15, tolls_amount#16, improvement_surcharge#17, total_amount#18, tpep_pickup_datetime_ts#59, to_timestamp(tpep_dropoff_datetime#2, Some(dd/MM/yyyy HH:mm), TimestampType, Some(Etc/UTC), false) AS tpep_dropoff_datetime_ts#80]\n",
            "                                       +- Project [VendorID#0, tpep_pickup_datetime#1, tpep_dropoff_datetime#2, passenger_count#3, trip_distance#4, pickup_longitude#5, pickup_latitude#6, RateCodeID#7, store_and_fwd_flag#38, dropoff_longitude#9, dropoff_latitude#10, payment_type#11, fare_amount#12, extra#13, mta_tax#14, tip_amount#15, tolls_amount#16, improvement_surcharge#17, total_amount#18, to_timestamp(tpep_pickup_datetime#1, Some(dd/MM/yyyy HH:mm), TimestampType, Some(Etc/UTC), false) AS tpep_pickup_datetime_ts#59]\n",
            "                                          +- Project [VendorID#0, tpep_pickup_datetime#1, tpep_dropoff_datetime#2, passenger_count#3, trip_distance#4, pickup_longitude#5, pickup_latitude#6, RateCodeID#7, CASE WHEN (store_and_fwd_flag#8 = Y) THEN true WHEN (store_and_fwd_flag#8 = N) THEN false ELSE cast(null as boolean) END AS store_and_fwd_flag#38, dropoff_longitude#9, dropoff_latitude#10, payment_type#11, fare_amount#12, extra#13, mta_tax#14, tip_amount#15, tolls_amount#16, improvement_surcharge#17, total_amount#18]\n",
            "                                             +- Relation [VendorID#0,tpep_pickup_datetime#1,tpep_dropoff_datetime#2,passenger_count#3,trip_distance#4,pickup_longitude#5,pickup_latitude#6,RateCodeID#7,store_and_fwd_flag#8,dropoff_longitude#9,dropoff_latitude#10,payment_type#11,fare_amount#12,extra#13,mta_tax#14,tip_amount#15,tolls_amount#16,improvement_surcharge#17,total_amount#18] csv\n",
            "\n",
            "== Optimized Logical Plan ==\n",
            "Aggregate [driver_mod#334L], [driver_mod#334L, sum(total_amount#18) AS total_amount#2442]\n",
            "+- Project [total_amount#18, (crc32(cast(concat_ws(_, cast(pickup_latitude#6 as string), cast(pickup_longitude#5 as string)) as binary)) % 16) AS driver_mod#334L]\n",
            "   +- Filter (((((isnotnull(trip_distance#4) AND isnotnull(tpep_dropoff_datetime#2)) AND isnotnull(tpep_pickup_datetime#1)) AND isnotnull(fare_amount#12)) AND isnotnull(passenger_count#3)) AND ((trip_distance#4 > 0.0) AND (((((tpep_dropoff_datetime#2 > tpep_pickup_datetime#1) AND (fare_amount#12 >= 0.0)) AND (passenger_count#3 > 0)) AND ((cast((cast(gettimestamp(tpep_dropoff_datetime#2, dd/MM/yyyy HH:mm, TimestampType, Some(Etc/UTC), false) as bigint) - cast(gettimestamp(tpep_pickup_datetime#1, dd/MM/yyyy HH:mm, TimestampType, Some(Etc/UTC), false) as bigint)) as double) / 60.0) > 0.5)) AND ((cast((cast(gettimestamp(tpep_dropoff_datetime#2, dd/MM/yyyy HH:mm, TimestampType, Some(Etc/UTC), false) as bigint) - cast(gettimestamp(tpep_pickup_datetime#1, dd/MM/yyyy HH:mm, TimestampType, Some(Etc/UTC), false) as bigint)) as double) / 60.0) < 1440.0))))\n",
            "      +- Relation [VendorID#0,tpep_pickup_datetime#1,tpep_dropoff_datetime#2,passenger_count#3,trip_distance#4,pickup_longitude#5,pickup_latitude#6,RateCodeID#7,store_and_fwd_flag#8,dropoff_longitude#9,dropoff_latitude#10,payment_type#11,fare_amount#12,extra#13,mta_tax#14,tip_amount#15,tolls_amount#16,improvement_surcharge#17,total_amount#18] csv\n",
            "\n",
            "== Physical Plan ==\n",
            "AdaptiveSparkPlan isFinalPlan=false\n",
            "+- HashAggregate(keys=[driver_mod#334L], functions=[sum(total_amount#18)], output=[driver_mod#334L, total_amount#2442])\n",
            "   +- Exchange hashpartitioning(driver_mod#334L, 8), ENSURE_REQUIREMENTS, [plan_id=969]\n",
            "      +- HashAggregate(keys=[driver_mod#334L], functions=[partial_sum(total_amount#18)], output=[driver_mod#334L, sum#2446])\n",
            "         +- Project [total_amount#18, (crc32(cast(concat_ws(_, cast(pickup_latitude#6 as string), cast(pickup_longitude#5 as string)) as binary)) % 16) AS driver_mod#334L]\n",
            "            +- Filter ((((((((((isnotnull(trip_distance#4) AND isnotnull(tpep_dropoff_datetime#2)) AND isnotnull(tpep_pickup_datetime#1)) AND isnotnull(fare_amount#12)) AND isnotnull(passenger_count#3)) AND (trip_distance#4 > 0.0)) AND (tpep_dropoff_datetime#2 > tpep_pickup_datetime#1)) AND (fare_amount#12 >= 0.0)) AND (passenger_count#3 > 0)) AND ((cast((cast(gettimestamp(tpep_dropoff_datetime#2, dd/MM/yyyy HH:mm, TimestampType, Some(Etc/UTC), false) as bigint) - cast(gettimestamp(tpep_pickup_datetime#1, dd/MM/yyyy HH:mm, TimestampType, Some(Etc/UTC), false) as bigint)) as double) / 60.0) > 0.5)) AND ((cast((cast(gettimestamp(tpep_dropoff_datetime#2, dd/MM/yyyy HH:mm, TimestampType, Some(Etc/UTC), false) as bigint) - cast(gettimestamp(tpep_pickup_datetime#1, dd/MM/yyyy HH:mm, TimestampType, Some(Etc/UTC), false) as bigint)) as double) / 60.0) < 1440.0))\n",
            "               +- FileScan csv [tpep_pickup_datetime#1,tpep_dropoff_datetime#2,passenger_count#3,trip_distance#4,pickup_longitude#5,pickup_latitude#6,fare_amount#12,total_amount#18] Batched: false, DataFilters: [isnotnull(trip_distance#4), isnotnull(tpep_dropoff_datetime#2), isnotnull(tpep_pickup_datetime#1..., Format: CSV, Location: InMemoryFileIndex(1 paths)[file:/content/yellow_tripdata_2015-01.csv], PartitionFilters: [], PushedFilters: [IsNotNull(trip_distance), IsNotNull(tpep_dropoff_datetime), IsNotNull(tpep_pickup_datetime), IsN..., ReadSchema: struct<tpep_pickup_datetime:string,tpep_dropoff_datetime:string,passenger_count:int,trip_distance...\n",
            "\n"
          ]
        }
      ],
      "source": [
        "import time\n",
        "t0 = time.time()\n",
        "count0 = clean_df.groupBy(\"pickup_date\").agg(_count(\"*\").alias(\"n\")).count()\n",
        "t1 = time.time()\n",
        "print(\"Without cache: {}s\".format(t1-t0))\n",
        "\n",
        "clean_df.cache()\n",
        "# materialize\n",
        "clean_df.count()\n",
        "\n",
        "t2 = time.time()\n",
        "count1 = clean_df.groupBy(\"pickup_date\").agg(_count(\"*\").alias(\"n\")).count()\n",
        "t3 = time.time()\n",
        "print(\"With cache: {}s\".format(t3-t2))\n",
        "\n",
        "clean_df.unpersist()\n",
        "# show explain for a heavy query\n",
        "q = clean_df.groupBy(\"driver_mod\").agg(_sum(\"total_amount\").alias(\"total_amount\"))\n",
        "q.explain(True)"
      ],
      "metadata": {
        "ExecuteTime": {
          "end_time": "2025-09-14T21:13:37.980927800Z",
          "start_time": "2025-09-14T21:12:52.411485800Z"
        },
        "colab": {
          "base_uri": "https://localhost:8080/"
        },
        "id": "2a423f31053d8c75",
        "outputId": "de7324cd-7bc4-4d97-e44e-65a6a4113cb0"
      },
      "id": "2a423f31053d8c75"
    },
    {
      "cell_type": "markdown",
      "source": [
        "## Read-back Parquet + predicate pushdown timing test"
      ],
      "metadata": {
        "collapsed": false,
        "id": "c266c8c3467a5d86"
      },
      "id": "c266c8c3467a5d86"
    },
    {
      "cell_type": "markdown",
      "source": [
        "Selected a sample date and read Parquet with .filter(pickup_date == sample_date) to demonstrate partition pruning and fast reads: 28,612 rows in 3.90s."
      ],
      "metadata": {
        "id": "--XT_pPqdGF_"
      },
      "id": "--XT_pPqdGF_"
    },
    {
      "cell_type": "code",
      "execution_count": 13,
      "outputs": [
        {
          "output_type": "stream",
          "name": "stdout",
          "text": [
            "Read date 2015-01-11: 28612 rows in 3.90s\n",
            "== Parsed Logical Plan ==\n",
            "'Filter ('pickup_date = 2015-01-11)\n",
            "+- Relation [VendorID#2453,tpep_pickup_datetime#2454,tpep_dropoff_datetime#2455,passenger_count#2456,trip_distance#2457,pickup_longitude#2458,pickup_latitude#2459,RateCodeID#2460,store_and_fwd_flag#2461,dropoff_longitude#2462,dropoff_latitude#2463,payment_type#2464,fare_amount#2465,extra#2466,mta_tax#2467,tip_amount#2468,tolls_amount#2469,improvement_surcharge#2470,total_amount#2471,tpep_pickup_datetime_ts#2472,tpep_dropoff_datetime_ts#2473,trip_minutes#2474,trip_hours#2475,avg_speed_mph#2476,... 3 more fields] parquet\n",
            "\n",
            "== Analyzed Logical Plan ==\n",
            "VendorID: int, tpep_pickup_datetime: string, tpep_dropoff_datetime: string, passenger_count: int, trip_distance: double, pickup_longitude: double, pickup_latitude: double, RateCodeID: int, store_and_fwd_flag: boolean, dropoff_longitude: double, dropoff_latitude: double, payment_type: int, fare_amount: double, extra: double, mta_tax: double, tip_amount: double, tolls_amount: double, improvement_surcharge: double, total_amount: double, tpep_pickup_datetime_ts: timestamp, tpep_dropoff_datetime_ts: timestamp, trip_minutes: double, trip_hours: double, avg_speed_mph: double, ... 3 more fields\n",
            "Filter (pickup_date#2478 = 2015-01-11)\n",
            "+- Relation [VendorID#2453,tpep_pickup_datetime#2454,tpep_dropoff_datetime#2455,passenger_count#2456,trip_distance#2457,pickup_longitude#2458,pickup_latitude#2459,RateCodeID#2460,store_and_fwd_flag#2461,dropoff_longitude#2462,dropoff_latitude#2463,payment_type#2464,fare_amount#2465,extra#2466,mta_tax#2467,tip_amount#2468,tolls_amount#2469,improvement_surcharge#2470,total_amount#2471,tpep_pickup_datetime_ts#2472,tpep_dropoff_datetime_ts#2473,trip_minutes#2474,trip_hours#2475,avg_speed_mph#2476,... 3 more fields] parquet\n",
            "\n",
            "== Optimized Logical Plan ==\n",
            "Filter (isnotnull(pickup_date#2478) AND (pickup_date#2478 = 2015-01-11))\n",
            "+- Relation [VendorID#2453,tpep_pickup_datetime#2454,tpep_dropoff_datetime#2455,passenger_count#2456,trip_distance#2457,pickup_longitude#2458,pickup_latitude#2459,RateCodeID#2460,store_and_fwd_flag#2461,dropoff_longitude#2462,dropoff_latitude#2463,payment_type#2464,fare_amount#2465,extra#2466,mta_tax#2467,tip_amount#2468,tolls_amount#2469,improvement_surcharge#2470,total_amount#2471,tpep_pickup_datetime_ts#2472,tpep_dropoff_datetime_ts#2473,trip_minutes#2474,trip_hours#2475,avg_speed_mph#2476,... 3 more fields] parquet\n",
            "\n",
            "== Physical Plan ==\n",
            "*(1) ColumnarToRow\n",
            "+- FileScan parquet [VendorID#2453,tpep_pickup_datetime#2454,tpep_dropoff_datetime#2455,passenger_count#2456,trip_distance#2457,pickup_longitude#2458,pickup_latitude#2459,RateCodeID#2460,store_and_fwd_flag#2461,dropoff_longitude#2462,dropoff_latitude#2463,payment_type#2464,fare_amount#2465,extra#2466,mta_tax#2467,tip_amount#2468,tolls_amount#2469,improvement_surcharge#2470,total_amount#2471,tpep_pickup_datetime_ts#2472,tpep_dropoff_datetime_ts#2473,trip_minutes#2474,trip_hours#2475,avg_speed_mph#2476,... 3 more fields] Batched: true, DataFilters: [], Format: Parquet, Location: InMemoryFileIndex(1 paths)[file:/content/data/parquet_trips], PartitionFilters: [isnotnull(pickup_date#2478), (pickup_date#2478 = 2015-01-11)], PushedFilters: [], ReadSchema: struct<VendorID:int,tpep_pickup_datetime:string,tpep_dropoff_datetime:string,passenger_count:int,...\n",
            "\n"
          ]
        }
      ],
      "source": [
        "from pyspark.sql.functions import lit\n",
        "\n",
        "# Select a single date to prove partition pruning\n",
        "sample_date = clean_df.select(\"pickup_date\").distinct().limit(1).collect()[0][\"pickup_date\"]\n",
        "t0 = time.time()\n",
        "p = spark.read.parquet(out_path).filter(col(\"pickup_date\") == lit(sample_date))\n",
        "cnt = p.count()\n",
        "t1 = time.time()\n",
        "print(f\"Read date {sample_date}: {cnt} rows in {t1-t0:.2f}s\")\n",
        "p.explain(True)"
      ],
      "metadata": {
        "ExecuteTime": {
          "end_time": "2025-09-14T21:14:45.436868900Z",
          "start_time": "2025-09-14T21:14:43.221752700Z"
        },
        "colab": {
          "base_uri": "https://localhost:8080/"
        },
        "id": "6e927c8292e678da",
        "outputId": "59693c8a-b239-4c17-ce3e-a14ea3ae34a4"
      },
      "id": "6e927c8292e678da"
    },
    {
      "cell_type": "markdown",
      "source": [
        "## Business/ML-ready insights to display (visualisation)"
      ],
      "metadata": {
        "collapsed": false,
        "id": "ee76a94fde491900"
      },
      "id": "ee76a94fde491900"
    },
    {
      "cell_type": "markdown",
      "source": [
        "Trips per day timeseries (Pandas + matplotlib). Useful to spot weekly cycles or anomalies."
      ],
      "metadata": {
        "id": "XYhwXZPydPdO"
      },
      "id": "XYhwXZPydPdO"
    },
    {
      "cell_type": "code",
      "execution_count": 14,
      "outputs": [
        {
          "output_type": "display_data",
          "data": {
            "text/plain": [
              "<Figure size 640x480 with 1 Axes>"
            ],
            "image/png": "[encoded data removed]"
          },
          "metadata": {}
        }
      ],
      "source": [
        "pdf = clean_df.groupBy(\"pickup_date\").agg(_count(\"*\").alias(\"trips\")).orderBy(\"pickup_date\").toPandas()\n",
        "import matplotlib.pyplot as plt\n",
        "plt.plot(pdf['pickup_date'], pdf['trips'])\n",
        "plt.title(\"Trips per day\")\n",
        "plt.xticks(rotation=45)\n",
        "plt.show()"
      ],
      "metadata": {
        "ExecuteTime": {
          "end_time": "2025-09-14T21:15:52.953695100Z",
          "start_time": "2025-09-14T21:15:50.684998700Z"
        },
        "colab": {
          "base_uri": "https://localhost:8080/",
          "height": 505
        },
        "id": "e71e6aef74fa2993",
        "outputId": "15a92380-49e2-4adc-b930-22cbc4b8696c"
      },
      "id": "e71e6aef74fa2993"
    },
    {
      "cell_type": "markdown",
      "source": [
        "## Save final aggregated artifacts + metadata"
      ],
      "metadata": {
        "collapsed": false,
        "id": "d1ce2f097f5bb0dd"
      },
      "id": "d1ce2f097f5bb0dd"
    },
    {
      "cell_type": "markdown",
      "source": [
        "Dataset summary (num_trips, avg trip_distance, avg fare)."
      ],
      "metadata": {
        "id": "fWOGCHGtdc9z"
      },
      "id": "fWOGCHGtdc9z"
    },
    {
      "cell_type": "code",
      "execution_count": 17,
      "outputs": [],
      "source": [
        "from pyspark.sql.functions import avg, min as _min, max as _max, count as _count, round\n",
        "\n",
        "summary = clean_df.agg(\n",
        "    _count(\"*\").alias(\"num_trips\"),\n",
        "    round(avg(\"trip_distance\"), 2).alias(\"avg_trip_distance\"),\n",
        "    round(avg(\"fare_amount\"), 2).alias(\"avg_fare_amount\"),\n",
        "    _min(\"tpep_pickup_datetime_ts\").alias(\"min_pickup_ts\"),\n",
        "    _max(\"tpep_dropoff_datetime_ts\").alias(\"max_dropoff_ts\")\n",
        ")\n",
        "\n",
        "# convert to pandas (it's a single-row dataframe — safe)\n",
        "summary_pd = summary.toPandas()\n",
        "summary_pd.to_csv(\"data/output/dataset_summary.csv\", index=False)\n"
      ],
      "metadata": {
        "id": "2ce886eee2ba07e3"
      },
      "id": "2ce886eee2ba07e3"
    },
    {
      "cell_type": "markdown",
      "source": [
        "## Results & key takeaways\n",
        "\n",
        "Cleaned dataset size: 411,746 trips (after filters). Good sample for modeling/analytics.\n",
        "\n",
        "Performance: partitioned Parquet + caching + broadcast join demonstrates common big data optimizations. Partition pruning returned 28k rows for a single date in ~4s — acceptable for local/dev.\n",
        "\n",
        "Operational insight: driver_mod 8 consistently ranks #1 in revenue across many days — suggests hotspot, high-utilization driver cluster or a data artifact to investigate.\n",
        "\n",
        "Data quality: many tip_pct values are zero — either cash payments or missing values; further investigate on payment types and tips distribution."
      ],
      "metadata": {
        "id": "bvwXU_ZpdiSd"
      },
      "id": "bvwXU_ZpdiSd"
    },
    {
      "cell_type": "code",
      "source": [],
      "metadata": {
        "id": "fe_UPhG1UU8x"
      },
      "id": "fe_UPhG1UU8x",
      "execution_count": null,
      "outputs": []
    }
  ],
  "metadata": {
    "kernelspec": {
      "display_name": "Python 3",
      "language": "python",
      "name": "python3"
    },
    "language_info": {
      "codemirror_mode": {
        "name": "ipython",
        "version": 2
      },
      "file_extension": ".py",
      "mimetype": "text/x-python",
      "name": "python",
      "nbconvert_exporter": "python",
      "pygments_lexer": "ipython2",
      "version": "2.7.6"
    },
    "colab": {
      "provenance": []
    }
  },
  "nbformat": 4,
  "nbformat_minor": 5
}
